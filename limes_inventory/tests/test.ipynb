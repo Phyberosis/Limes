{
 "cells": [
  {
   "cell_type": "code",
   "execution_count": 1,
   "id": "870ebced",
   "metadata": {},
   "outputs": [],
   "source": [
    "import limes\n",
    "q = limes.Query"
   ]
  },
  {
   "cell_type": "code",
   "execution_count": 2,
   "id": "ea4fc0a6",
   "metadata": {},
   "outputs": [
    {
     "output_type": "stream",
     "name": "stdout",
     "text": [
      "# using temporary dev token, remember to change!\n"
     ]
    },
    {
     "output_type": "execute_result",
     "data": {
      "text/plain": [
       "True"
      ]
     },
     "metadata": {},
     "execution_count": 2
    }
   ],
   "source": [
    "limes.Login()"
   ]
  },
  {
   "cell_type": "code",
   "execution_count": 3,
   "metadata": {},
   "outputs": [
    {
     "output_type": "stream",
     "name": "stdout",
     "text": [
      "172d2e76f397c3600be76b01a16d2952\n"
     ]
    }
   ],
   "source": [
    "print(limes._apiToken)"
   ]
  },
  {
   "cell_type": "code",
   "execution_count": 5,
   "id": "043eee35",
   "metadata": {},
   "outputs": [
    {
     "output_type": "stream",
     "name": "stderr",
     "text": [
      "C:\\Python\\Anaconda3\\envs\\hlm\\lib\\site-packages\\urllib3\\connectionpool.py:1013: InsecureRequestWarning: Unverified HTTPS request is being made to host 'us.elabjournal.com'. Adding certificate verification is strongly advised. See: https://urllib3.readthedocs.io/en/latest/advanced-usage.html#ssl-warnings\n  warnings.warn(\n"
     ]
    }
   ],
   "source": [
    "b, r = q.ByAll('12345')"
   ]
  },
  {
   "cell_type": "code",
   "execution_count": 6,
   "id": "7ae926bc",
   "metadata": {},
   "outputs": [
    {
     "output_type": "stream",
     "name": "stdout",
     "text": [
      "1\n{'Name': 'sample 12345', 'Owner': 'Tony Liu', 'DateCreated': 1619091458.0, 'Description': '', 'Note': ''}\n\n{'owner': 'Tony Liu', 'archived': False, 'sampleID': 12526568, 'created': '2021-04-22T04:37:38Z', 'userID': 32306, 'creatorID': 32306, 'storageLayerID': 0, 'position': 0, 'barcode': '005000012526568', 'sampleType': {'sampleTypeID': 37655, 'userID': 32306, 'groupID': 8602, 'name': 'Test Sample', 'backgroundColor': 'F00', 'foregroundColor': 'FFF'}, 'sampleTypeID': 37655, 'checkedOut': False, 'parentSampleID': 0, 'name': 'sample 12345', 'description': '', 'note': ''}\n"
     ]
    }
   ],
   "source": [
    "print(len(r))\n",
    "print(r[0])\n",
    "a = r[0]\n",
    "print()\n",
    "print(a._raw)"
   ]
  },
  {
   "cell_type": "code",
   "execution_count": 3,
   "metadata": {},
   "outputs": [
    {
     "output_type": "stream",
     "name": "stderr",
     "text": [
      "C:\\Python\\Anaconda3\\envs\\hlm\\lib\\site-packages\\urllib3\\connectionpool.py:1013: InsecureRequestWarning: Unverified HTTPS request is being made to host '127.0.0.1'. Adding certificate verification is strongly advised. See: https://urllib3.readthedocs.io/en/latest/advanced-usage.html#ssl-warnings\n  warnings.warn(\n"
     ]
    },
    {
     "output_type": "execute_result",
     "data": {
      "text/plain": [
       "(True, {'from': 'le fosDB'})"
      ]
     },
     "metadata": {},
     "execution_count": 3
    }
   ],
   "source": [
    "limes.Test('test', {})"
   ]
  },
  {
   "cell_type": "code",
   "execution_count": 3,
   "metadata": {},
   "outputs": [
    {
     "output_type": "stream",
     "name": "stdout",
     "text": [
      "A.K\n"
     ]
    }
   ],
   "source": [
    "'ROOT_ASFD'.title()\n",
    "\n",
    "from enum import Enum\n",
    "\n",
    "class A (Enum):\n",
    "    K = 1\n",
    "\n",
    "print(A['K'])"
   ]
  }
 ],
 "metadata": {
  "kernelspec": {
   "name": "python388jvsc74a57bd0149b1191f754c6c0bd904dfe8d1495d548f2012fe6d5f14d32f7a12d223ef39e",
   "display_name": "Python 3.8.8 64-bit ('base': conda)"
  },
  "language_info": {
   "codemirror_mode": {
    "name": "ipython",
    "version": 3
   },
   "file_extension": ".py",
   "mimetype": "text/x-python",
   "name": "python",
   "nbconvert_exporter": "python",
   "pygments_lexer": "ipython3",
   "version": "3.8.8"
  },
  "metadata": {
   "interpreter": {
    "hash": "149b1191f754c6c0bd904dfe8d1495d548f2012fe6d5f14d32f7a12d223ef39e"
   }
  }
 },
 "nbformat": 4,
 "nbformat_minor": 5
}