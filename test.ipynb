{
 "cells": [
  {
   "cell_type": "code",
   "execution_count": 1,
   "id": "870ebced",
   "metadata": {},
   "outputs": [],
   "source": [
    "import limes\n",
    "q = limes.Query"
   ]
  },
  {
   "source": [],
   "cell_type": "markdown",
   "metadata": {}
  },
  {
   "cell_type": "code",
   "execution_count": 2,
   "id": "ea4fc0a6",
   "metadata": {},
   "outputs": [
    {
     "output_type": "stream",
     "name": "stdout",
     "text": [
      "# using temporary dev token, remember to change!\n"
     ]
    },
    {
     "output_type": "execute_result",
     "data": {
      "text/plain": [
       "True"
      ]
     },
     "metadata": {},
     "execution_count": 2
    }
   ],
   "source": [
    "limes.Login()"
   ]
  },
  {
   "cell_type": "code",
   "execution_count": 3,
   "metadata": {},
   "outputs": [
    {
     "output_type": "stream",
     "name": "stdout",
     "text": [
      "172d2e76f397c3600be76b01a16d2952\n"
     ]
    }
   ],
   "source": [
    "print(limes._apiToken)"
   ]
  },
  {
   "cell_type": "code",
   "execution_count": 4,
   "id": "043eee35",
   "metadata": {},
   "outputs": [],
   "source": [
    "b, r = q.ByAll('12345')"
   ]
  },
  {
   "cell_type": "code",
   "execution_count": 5,
   "id": "7ae926bc",
   "metadata": {},
   "outputs": [
    {
     "output_type": "stream",
     "name": "stdout",
     "text": [
      "1\n{'Name': 'sample 12345', 'Owner': 'Tony Liu', 'DateCreated': 1619091458.0, 'Description': '', 'Note': ''}\n\n{'owner': 'Tony Liu', 'archived': False, 'sampleID': 12526568, 'created': '2021-04-22T04:37:38Z', 'userID': 32306, 'creatorID': 32306, 'storageLayerID': 0, 'position': 0, 'barcode': '005000012526568', 'sampleType': {'sampleTypeID': 37655, 'userID': 32306, 'groupID': 8602, 'name': 'Test Sample', 'backgroundColor': 'F00', 'foregroundColor': 'FFF'}, 'sampleTypeID': 37655, 'checkedOut': False, 'parentSampleID': 0, 'name': 'sample 12345', 'description': '', 'note': ''}\n"
     ]
    }
   ],
   "source": [
    "print(len(r))\n",
    "print(r[0])\n",
    "a = r[0]\n",
    "print()\n",
    "print(a._raw)"
   ]
  }
 ],
 "metadata": {
  "kernelspec": {
   "name": "python394jvsc74a57bd01b6e0492f72cac3ea5487355cb46f5558656be4aa1bec00ae2597737f9ccb141",
   "display_name": "Python 3.9.4 64-bit ('hlm': conda)"
  },
  "language_info": {
   "codemirror_mode": {
    "name": "ipython",
    "version": 3
   },
   "file_extension": ".py",
   "mimetype": "text/x-python",
   "name": "python",
   "nbconvert_exporter": "python",
   "pygments_lexer": "ipython3",
   "version": "3.9.4"
  }
 },
 "nbformat": 4,
 "nbformat_minor": 5
}