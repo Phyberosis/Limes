{
 "cells": [
  {
   "cell_type": "code",
   "execution_count": 1,
   "id": "870ebced",
   "metadata": {},
   "outputs": [
    {
     "name": "stdout",
     "output_type": "stream",
     "text": [
      "# using temporary dev token, remember to change!\n",
      "True\n",
      "True\n",
      "1\n",
      "{'owner': 'Tony Liu', 'archived': False, 'sampleID': 12526568, 'created': '2021-04-22T04:37:38Z', 'userID': 32306, 'creatorID': 32306, 'storageLayerID': 0, 'position': 0, 'barcode': '005000012526568', 'sampleType': {'sampleTypeID': 37655, 'userID': 32306, 'groupID': 8602, 'name': 'Test Sample', 'backgroundColor': 'F00', 'foregroundColor': 'FFF'}, 'sampleTypeID': 37655, 'checkedOut': False, 'parentSampleID': 0, 'name': 'sample 12345', 'description': '', 'note': ''}\n"
     ]
    }
   ],
   "source": [
    "from limes import Limes"
   ]
  },
  {
   "cell_type": "code",
   "execution_count": 5,
   "id": "2128b5e7",
   "metadata": {},
   "outputs": [],
   "source": [
    "l = Limes()\n",
    "q = l.Query"
   ]
  },
  {
   "cell_type": "code",
   "execution_count": 7,
   "id": "ea4fc0a6",
   "metadata": {},
   "outputs": [
    {
     "name": "stdout",
     "output_type": "stream",
     "text": [
      "# using temporary dev token, remember to change!\n"
     ]
    },
    {
     "data": {
      "text/plain": [
       "True"
      ]
     },
     "execution_count": 7,
     "metadata": {},
     "output_type": "execute_result"
    }
   ],
   "source": [
    "l.Login()"
   ]
  },
  {
   "cell_type": "code",
   "execution_count": 20,
   "id": "043eee35",
   "metadata": {},
   "outputs": [],
   "source": [
    "b, r = q.ByAll('12345')"
   ]
  },
  {
   "cell_type": "code",
   "execution_count": 21,
   "id": "7ae926bc",
   "metadata": {},
   "outputs": [
    {
     "name": "stdout",
     "output_type": "stream",
     "text": [
      "1\n",
      "{'Name': 'sample 12345', 'Owner': 'Tony Liu', 'DateCreated': 1619091458.0, 'Description': '', 'Note': ''}\n",
      "\n",
      "{'owner': 'Tony Liu', 'archived': False, 'sampleID': 12526568, 'created': '2021-04-22T04:37:38Z', 'userID': 32306, 'creatorID': 32306, 'storageLayerID': 0, 'position': 0, 'barcode': '005000012526568', 'sampleType': {'sampleTypeID': 37655, 'userID': 32306, 'groupID': 8602, 'name': 'Test Sample', 'backgroundColor': 'F00', 'foregroundColor': 'FFF'}, 'sampleTypeID': 37655, 'checkedOut': False, 'parentSampleID': 0, 'name': 'sample 12345', 'description': '', 'note': ''}\n"
     ]
    }
   ],
   "source": [
    "print(len(r))\n",
    "print(r[0])\n",
    "a = r[0]\n",
    "print()\n",
    "print(a._raw)"
   ]
  }
 ],
 "metadata": {
  "kernelspec": {
   "display_name": "Python 3",
   "language": "python",
   "name": "python3"
  },
  "language_info": {
   "codemirror_mode": {
    "name": "ipython",
    "version": 3
   },
   "file_extension": ".py",
   "mimetype": "text/x-python",
   "name": "python",
   "nbconvert_exporter": "python",
   "pygments_lexer": "ipython3",
   "version": "3.9.4"
  }
 },
 "nbformat": 4,
 "nbformat_minor": 5
}
